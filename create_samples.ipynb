{
 "cells": [
  {
   "cell_type": "markdown",
   "id": "255e5934",
   "metadata": {
    "papermill": {
     "duration": 0.007067,
     "end_time": "2022-10-20T18:56:19.473266",
     "exception": false,
     "start_time": "2022-10-20T18:56:19.466199",
     "status": "completed"
    },
    "tags": []
   },
   "source": [
    "# Speeches by UK Members of Pariament\n",
    "\n",
    "Other notebooks in this series:\n",
    "* <a href='https://www.kaggle.com/datasets/andrewsale/uk-political-speeches'>The dataset</a>\n",
    "* <a href='https://www.kaggle.com/code/andrewsale/speech-scraping'>Scraping notebook</a>\n",
    "* <a href='https://www.kaggle.com/code/andrewsale/speeches-data-wrangling'>Wrangling notebook</a>\n",
    "* <a href='https://www.kaggle.com/code/andrewsale/speeches-classification-model-trials-v2/notebook'>Model tuning notebook</a>\n",
    "\n",
    "## Random sampling from speeches\n",
    "\n",
    "In this notebook we collect random samples from the collected speeches. Most of the samples will have length of 100 words, but some are shorter to improve model performance on shorter inputs."
   ]
  },
  {
   "cell_type": "code",
   "execution_count": 1,
   "id": "a90db0cc",
   "metadata": {
    "_cell_guid": "b1076dfc-b9ad-4769-8c92-a6c4dae69d19",
    "_kg_hide-input": true,
    "_uuid": "8f2839f25d086af736a60e9eeb907d3b93b6e0e5",
    "execution": {
     "iopub.execute_input": "2022-10-20T18:56:19.488518Z",
     "iopub.status.busy": "2022-10-20T18:56:19.487880Z",
     "iopub.status.idle": "2022-10-20T18:56:20.675706Z",
     "shell.execute_reply": "2022-10-20T18:56:20.674531Z"
    },
    "papermill": {
     "duration": 1.199305,
     "end_time": "2022-10-20T18:56:20.679156",
     "exception": false,
     "start_time": "2022-10-20T18:56:19.479851",
     "status": "completed"
    },
    "tags": []
   },
   "outputs": [],
   "source": [
    "import numpy as np\n",
    "import pandas as pd\n",
    "from sklearn.model_selection import train_test_split\n",
    "from sklearn.utils import resample\n",
    "from functools import partial"
   ]
  },
  {
   "cell_type": "markdown",
   "id": "b84c0caf",
   "metadata": {
    "papermill": {
     "duration": 0.004997,
     "end_time": "2022-10-20T18:56:20.689706",
     "exception": false,
     "start_time": "2022-10-20T18:56:20.684709",
     "status": "completed"
    },
    "tags": []
   },
   "source": [
    "# Load and prepare the data\n",
    "\n",
    "First load the data, then we add a word length feature and instpect its statistics.\n"
   ]
  },
  {
   "cell_type": "code",
   "execution_count": 2,
   "id": "214b49b5",
   "metadata": {
    "execution": {
     "iopub.execute_input": "2022-10-20T18:56:20.702394Z",
     "iopub.status.busy": "2022-10-20T18:56:20.701932Z",
     "iopub.status.idle": "2022-10-20T18:56:22.741880Z",
     "shell.execute_reply": "2022-10-20T18:56:22.740706Z"
    },
    "papermill": {
     "duration": 2.049911,
     "end_time": "2022-10-20T18:56:22.744826",
     "exception": false,
     "start_time": "2022-10-20T18:56:20.694915",
     "status": "completed"
    },
    "tags": []
   },
   "outputs": [],
   "source": [
    "speeches_df = pd.read_csv('../input/speeches-data-wrangling/speeches.csv')"
   ]
  },
  {
   "cell_type": "code",
   "execution_count": 3,
   "id": "e409447f",
   "metadata": {
    "execution": {
     "iopub.execute_input": "2022-10-20T18:56:22.759576Z",
     "iopub.status.busy": "2022-10-20T18:56:22.759105Z",
     "iopub.status.idle": "2022-10-20T18:56:23.704919Z",
     "shell.execute_reply": "2022-10-20T18:56:23.703640Z"
    },
    "papermill": {
     "duration": 0.95621,
     "end_time": "2022-10-20T18:56:23.708442",
     "exception": false,
     "start_time": "2022-10-20T18:56:22.752232",
     "status": "completed"
    },
    "tags": []
   },
   "outputs": [
    {
     "data": {
      "text/plain": [
       "count    10969.000000\n",
       "mean      1301.883946\n",
       "std       1454.084189\n",
       "min          0.000000\n",
       "25%        217.000000\n",
       "50%        809.000000\n",
       "75%       1864.000000\n",
       "max      11857.000000\n",
       "Name: Word length, dtype: float64"
      ]
     },
     "execution_count": 3,
     "metadata": {},
     "output_type": "execute_result"
    }
   ],
   "source": [
    "speeches_df['Word length'] = speeches_df['Speech'].apply(lambda x : len(x.split(' ')) if isinstance(x,str) else 0)\n",
    "speeches_df['Word length'].describe()"
   ]
  },
  {
   "cell_type": "markdown",
   "id": "6f637047",
   "metadata": {
    "papermill": {
     "duration": 0.005324,
     "end_time": "2022-10-20T18:56:23.719392",
     "exception": false,
     "start_time": "2022-10-20T18:56:23.714068",
     "status": "completed"
    },
    "tags": []
   },
   "source": [
    "Now we will select only those speeches by Labour or Conservatives speakers, adn identify them with labels:\n",
    "\n",
    "* 0 for Labour\n",
    "* 1 for Conservative"
   ]
  },
  {
   "cell_type": "code",
   "execution_count": 4,
   "id": "c95bc923",
   "metadata": {
    "execution": {
     "iopub.execute_input": "2022-10-20T18:56:23.732370Z",
     "iopub.status.busy": "2022-10-20T18:56:23.731928Z",
     "iopub.status.idle": "2022-10-20T18:56:23.754667Z",
     "shell.execute_reply": "2022-10-20T18:56:23.753493Z"
    },
    "papermill": {
     "duration": 0.032773,
     "end_time": "2022-10-20T18:56:23.757647",
     "exception": false,
     "start_time": "2022-10-20T18:56:23.724874",
     "status": "completed"
    },
    "tags": []
   },
   "outputs": [],
   "source": [
    "tory_labour = {'Conservative Party', 'Labour Party', 'Labour Co-operative'}\n",
    "tory_labour_speeches = speeches_df[speeches_df['Party'].isin(tory_labour)].dropna(subset=['Speech'])\n",
    "tory_labour_speeches['Label'] = tory_labour_speeches.loc[:,'Party'].apply(lambda x : 1 if x=='Conservative Party' else 0)"
   ]
  },
  {
   "cell_type": "markdown",
   "id": "06c43ec6",
   "metadata": {
    "papermill": {
     "duration": 0.005277,
     "end_time": "2022-10-20T18:56:23.768754",
     "exception": false,
     "start_time": "2022-10-20T18:56:23.763477",
     "status": "completed"
    },
    "tags": []
   },
   "source": [
    "## How many speeches should we use in our sample?\n",
    "\n",
    "We saw that the median speech has length around 800 words. If we use subsamples of length 100 words and allow for 50 words of overlap between sample then we can get 16 samples (including one at 50 words length) from the average speech.\n",
    "\n",
    "The total length of Labour speeches is almost 4,000,000 words. Taking 100 word subsamples, and allowing for 50 word overlaps, this gives us almost 80,000 samples. This is roughly half the number we get using Conservative speeches.\n",
    "\n",
    "Thus, taking 150,000 samples in total will give a good variety of speeches."
   ]
  },
  {
   "cell_type": "code",
   "execution_count": 5,
   "id": "bf668d35",
   "metadata": {
    "execution": {
     "iopub.execute_input": "2022-10-20T18:56:23.781477Z",
     "iopub.status.busy": "2022-10-20T18:56:23.781034Z",
     "iopub.status.idle": "2022-10-20T18:56:23.791934Z",
     "shell.execute_reply": "2022-10-20T18:56:23.790905Z"
    },
    "papermill": {
     "duration": 0.019951,
     "end_time": "2022-10-20T18:56:23.794258",
     "exception": false,
     "start_time": "2022-10-20T18:56:23.774307",
     "status": "completed"
    },
    "tags": []
   },
   "outputs": [
    {
     "data": {
      "text/plain": [
       "77897.4"
      ]
     },
     "execution_count": 5,
     "metadata": {},
     "output_type": "execute_result"
    }
   ],
   "source": [
    "tory_labour_speeches[tory_labour_speeches.Label == 0]['Word length'].sum() /50"
   ]
  },
  {
   "cell_type": "code",
   "execution_count": 6,
   "id": "59024883",
   "metadata": {
    "execution": {
     "iopub.execute_input": "2022-10-20T18:56:23.807990Z",
     "iopub.status.busy": "2022-10-20T18:56:23.807325Z",
     "iopub.status.idle": "2022-10-20T18:56:23.817029Z",
     "shell.execute_reply": "2022-10-20T18:56:23.815778Z"
    },
    "papermill": {
     "duration": 0.019605,
     "end_time": "2022-10-20T18:56:23.819552",
     "exception": false,
     "start_time": "2022-10-20T18:56:23.799947",
     "status": "completed"
    },
    "tags": []
   },
   "outputs": [
    {
     "data": {
      "text/plain": [
       "157980.38"
      ]
     },
     "execution_count": 6,
     "metadata": {},
     "output_type": "execute_result"
    }
   ],
   "source": [
    "tory_labour_speeches[tory_labour_speeches.Label == 1]['Word length'].sum() /50"
   ]
  },
  {
   "cell_type": "markdown",
   "id": "8c413152",
   "metadata": {
    "papermill": {
     "duration": 0.005895,
     "end_time": "2022-10-20T18:56:23.832278",
     "exception": false,
     "start_time": "2022-10-20T18:56:23.826383",
     "status": "completed"
    },
    "tags": []
   },
   "source": [
    "## Helper functions\n",
    "\n",
    "* `train_val_test_split`\n",
    "\n",
    "We make the split on the speech level (before taking samples from each speech). This ensures that there is no leakage between train and test sets.\n",
    "\n",
    "We upsample the Labout speeches (randomly select more than there are, with replacement) so that in the train and validation sets Labour and Conservatives are equally represented. At the end of the day, the number of sample speeches we take is chosen by looking at the number of (unique) Labour speeches.\n",
    "\n",
    "Note that the Conservative speeches tend to be longer than the Labour speeches, and since the sampling weighs the speeches by their word count, it means we will ultimately end up with more Conservative speech samples anyway, despite doing upsampling.\n",
    "\n",
    "* `random_sample`\n",
    "\n",
    "Takes a whole speech and randomly pulls out a subspeech of the given length (and allowing for shorter speeches to be extracted with a given probability."
   ]
  },
  {
   "cell_type": "code",
   "execution_count": 7,
   "id": "ca2ca091",
   "metadata": {
    "execution": {
     "iopub.execute_input": "2022-10-20T18:56:23.846790Z",
     "iopub.status.busy": "2022-10-20T18:56:23.846078Z",
     "iopub.status.idle": "2022-10-20T18:56:23.856725Z",
     "shell.execute_reply": "2022-10-20T18:56:23.855590Z"
    },
    "papermill": {
     "duration": 0.020849,
     "end_time": "2022-10-20T18:56:23.859259",
     "exception": false,
     "start_time": "2022-10-20T18:56:23.838410",
     "status": "completed"
    },
    "tags": []
   },
   "outputs": [],
   "source": [
    "def train_val_test_split(data, split=[0.8, 0.1, 0.1], random_state=1):\n",
    "    '''\n",
    "    Splits the dataset into three parts by the weights given in the split argument. \n",
    "    Note that the output train and validation sets have the same number of Labour and Conservative speeches by upsampling the Labour speeches.\n",
    "    \n",
    "    Args:\n",
    "        data --- the set to split\n",
    "        split --- the relative sizes of the three output sets\n",
    "        random_state\n",
    "    '''\n",
    "    # Check split weights are correctly input and add up to one\n",
    "    if len(split) > 3:\n",
    "        raise ValueError('Split should contain at most 3 values.')\n",
    "    while len(split)<3:\n",
    "        split.append(0)\n",
    "    split_sum = split[0]+split[1]+split[2]\n",
    "    if split_sum != 1:\n",
    "        for i in range(3):\n",
    "            split[i] /= split_sum\n",
    "    \n",
    "    # Perform the split\n",
    "    train_val, test = train_test_split(data, test_size=split[2], random_state=random_state, stratify=data['Party'])\n",
    "    train_val_0 = train_val[train_val.Label == 0]\n",
    "    train_val_1 = train_val[train_val.Label == 1]\n",
    "    train_val_0_upsample = resample(train_val_0, replace=True, n_samples = train_val_1.shape[0])\n",
    "    train_val = pd.concat([train_val_0_upsample, train_val_1],ignore_index=True)\n",
    "    train, val = train_test_split(train_val, train_size=split[0]/(split[0]+split[1]), random_state=random_state, stratify=train_val['Label'])\n",
    "    return train, val, test"
   ]
  },
  {
   "cell_type": "code",
   "execution_count": 8,
   "id": "3a1982a7",
   "metadata": {
    "execution": {
     "iopub.execute_input": "2022-10-20T18:56:23.874718Z",
     "iopub.status.busy": "2022-10-20T18:56:23.873865Z",
     "iopub.status.idle": "2022-10-20T18:56:23.881865Z",
     "shell.execute_reply": "2022-10-20T18:56:23.880821Z"
    },
    "papermill": {
     "duration": 0.019593,
     "end_time": "2022-10-20T18:56:23.884477",
     "exception": false,
     "start_time": "2022-10-20T18:56:23.864884",
     "status": "completed"
    },
    "tags": []
   },
   "outputs": [],
   "source": [
    "def random_sample(speech, length=100, shorten_prob=0.1):\n",
    "    '''\n",
    "    Randomly selects a substring from the given speech.\n",
    "    \n",
    "    Args:\n",
    "        speech: str  -- the speech to sample from.\n",
    "        length: int (default 100)  -- the desired maximum length of sample, in number of words.\n",
    "        shorten_prob: float (default 0.1)  -- the probability that we take a sample that is shorter than the desired length.\n",
    "    '''\n",
    "    split_speech = speech.split()\n",
    "    first_index = int(np.random.uniform(0, len(split_speech)-25))\n",
    "    random_shortenizer = np.random.uniform() < shorten_prob\n",
    "    if random_shortenizer:\n",
    "        length = int(np.random.uniform(25,length-10))\n",
    "    last_index = min(len(split_speech), first_index + length)\n",
    "    return \" \".join(split_speech[first_index:last_index])"
   ]
  },
  {
   "cell_type": "markdown",
   "id": "d191a428",
   "metadata": {
    "papermill": {
     "duration": 0.005307,
     "end_time": "2022-10-20T18:56:23.895455",
     "exception": false,
     "start_time": "2022-10-20T18:56:23.890148",
     "status": "completed"
    },
    "tags": []
   },
   "source": [
    "# Take samples"
   ]
  },
  {
   "cell_type": "code",
   "execution_count": 9,
   "id": "5a573614",
   "metadata": {
    "execution": {
     "iopub.execute_input": "2022-10-20T18:56:23.909024Z",
     "iopub.status.busy": "2022-10-20T18:56:23.908311Z",
     "iopub.status.idle": "2022-10-20T18:56:23.917394Z",
     "shell.execute_reply": "2022-10-20T18:56:23.916019Z"
    },
    "papermill": {
     "duration": 0.018894,
     "end_time": "2022-10-20T18:56:23.919981",
     "exception": false,
     "start_time": "2022-10-20T18:56:23.901087",
     "status": "completed"
    },
    "tags": []
   },
   "outputs": [],
   "source": [
    "def get_all_samples(speeches, full_size = 50000, split=[0.8,0.1,0.1], sample_length=100, shorten_prob=0.1, random_state=1):\n",
    "    # split the set\n",
    "    train, val, test = train_val_test_split(speeches, split = split, random_state=random_state)\n",
    "    train.to_csv('full_train.csv')\n",
    "    val.to_csv('full_val.csv')\n",
    "    test.to_csv('full_test.csv')\n",
    "    # define the function that obtains the random subpeech\n",
    "    get_sample = partial(random_sample, length=sample_length, shorten_prob=shorten_prob)\n",
    "    # instantialize a list to collect the output dataframes\n",
    "    output = []\n",
    "    # cycle through the three sets\n",
    "    for i, df in enumerate([train, val, test]):\n",
    "        # sample the rows, with replacement and weighted by word length\n",
    "        sampled_rows = df.sample(int(full_size*split[i]), \n",
    "                                 replace=True, \n",
    "                                 weights='Word length', \n",
    "                                 axis=0, \n",
    "                                 ignore_index=True, \n",
    "                                 random_state=1\n",
    "                                )\n",
    "        # take sample from each speech\n",
    "        sampled_rows['Speech'] = sampled_rows['Speech'].apply(get_sample)\n",
    "        # append to output\n",
    "        output.append(sampled_rows)\n",
    "    return output        "
   ]
  },
  {
   "cell_type": "code",
   "execution_count": 10,
   "id": "2fabdd5c",
   "metadata": {
    "execution": {
     "iopub.execute_input": "2022-10-20T18:56:23.933377Z",
     "iopub.status.busy": "2022-10-20T18:56:23.932949Z",
     "iopub.status.idle": "2022-10-20T18:56:58.719933Z",
     "shell.execute_reply": "2022-10-20T18:56:58.718689Z"
    },
    "papermill": {
     "duration": 34.796988,
     "end_time": "2022-10-20T18:56:58.722713",
     "exception": false,
     "start_time": "2022-10-20T18:56:23.925725",
     "status": "completed"
    },
    "tags": []
   },
   "outputs": [],
   "source": [
    "train, val, test = get_all_samples(tory_labour_speeches,\n",
    "                                   full_size = 150000, \n",
    "                                   split = [0.8,0.1,0.1],\n",
    "                                   sample_length = 100,\n",
    "                                   shorten_prob = 0.1\n",
    "                                  )"
   ]
  },
  {
   "cell_type": "markdown",
   "id": "cd72296b",
   "metadata": {
    "papermill": {
     "duration": 0.005309,
     "end_time": "2022-10-20T18:56:58.733810",
     "exception": false,
     "start_time": "2022-10-20T18:56:58.728501",
     "status": "completed"
    },
    "tags": []
   },
   "source": [
    "# Summary and save\n",
    "\n",
    "Now let's see the breakdown of our sets:"
   ]
  },
  {
   "cell_type": "code",
   "execution_count": 11,
   "id": "6ef49b2c",
   "metadata": {
    "execution": {
     "iopub.execute_input": "2022-10-20T18:56:58.747462Z",
     "iopub.status.busy": "2022-10-20T18:56:58.746716Z",
     "iopub.status.idle": "2022-10-20T18:56:58.757568Z",
     "shell.execute_reply": "2022-10-20T18:56:58.756396Z"
    },
    "papermill": {
     "duration": 0.020866,
     "end_time": "2022-10-20T18:56:58.760351",
     "exception": false,
     "start_time": "2022-10-20T18:56:58.739485",
     "status": "completed"
    },
    "tags": []
   },
   "outputs": [
    {
     "data": {
      "text/plain": [
       "1    64059\n",
       "0    55941\n",
       "Name: Label, dtype: int64"
      ]
     },
     "execution_count": 11,
     "metadata": {},
     "output_type": "execute_result"
    }
   ],
   "source": [
    "train.Label.value_counts()"
   ]
  },
  {
   "cell_type": "code",
   "execution_count": 12,
   "id": "b806a82c",
   "metadata": {
    "execution": {
     "iopub.execute_input": "2022-10-20T18:56:58.774444Z",
     "iopub.status.busy": "2022-10-20T18:56:58.773719Z",
     "iopub.status.idle": "2022-10-20T18:56:58.782604Z",
     "shell.execute_reply": "2022-10-20T18:56:58.781282Z"
    },
    "papermill": {
     "duration": 0.019212,
     "end_time": "2022-10-20T18:56:58.785347",
     "exception": false,
     "start_time": "2022-10-20T18:56:58.766135",
     "status": "completed"
    },
    "tags": []
   },
   "outputs": [
    {
     "data": {
      "text/plain": [
       "1    8066\n",
       "0    6934\n",
       "Name: Label, dtype: int64"
      ]
     },
     "execution_count": 12,
     "metadata": {},
     "output_type": "execute_result"
    }
   ],
   "source": [
    "val.Label.value_counts()"
   ]
  },
  {
   "cell_type": "code",
   "execution_count": 13,
   "id": "833c7745",
   "metadata": {
    "execution": {
     "iopub.execute_input": "2022-10-20T18:56:58.799092Z",
     "iopub.status.busy": "2022-10-20T18:56:58.798701Z",
     "iopub.status.idle": "2022-10-20T18:56:58.807107Z",
     "shell.execute_reply": "2022-10-20T18:56:58.805851Z"
    },
    "papermill": {
     "duration": 0.018183,
     "end_time": "2022-10-20T18:56:58.809485",
     "exception": false,
     "start_time": "2022-10-20T18:56:58.791302",
     "status": "completed"
    },
    "tags": []
   },
   "outputs": [
    {
     "data": {
      "text/plain": [
       "1    9518\n",
       "0    5482\n",
       "Name: Label, dtype: int64"
      ]
     },
     "execution_count": 13,
     "metadata": {},
     "output_type": "execute_result"
    }
   ],
   "source": [
    "test.Label.value_counts()"
   ]
  },
  {
   "cell_type": "code",
   "execution_count": 14,
   "id": "fc8cc045",
   "metadata": {
    "execution": {
     "iopub.execute_input": "2022-10-20T18:56:58.823358Z",
     "iopub.status.busy": "2022-10-20T18:56:58.822927Z",
     "iopub.status.idle": "2022-10-20T18:57:01.058611Z",
     "shell.execute_reply": "2022-10-20T18:57:01.057273Z"
    },
    "papermill": {
     "duration": 2.245902,
     "end_time": "2022-10-20T18:57:01.061417",
     "exception": false,
     "start_time": "2022-10-20T18:56:58.815515",
     "status": "completed"
    },
    "tags": []
   },
   "outputs": [],
   "source": [
    "train.to_csv('train.csv', index=False)\n",
    "test.to_csv('test.csv', index=False)\n",
    "val.to_csv('val.csv', index=False)"
   ]
  }
 ],
 "metadata": {
  "kernelspec": {
   "display_name": "Python 3",
   "language": "python",
   "name": "python3"
  },
  "language_info": {
   "codemirror_mode": {
    "name": "ipython",
    "version": 3
   },
   "file_extension": ".py",
   "mimetype": "text/x-python",
   "name": "python",
   "nbconvert_exporter": "python",
   "pygments_lexer": "ipython3",
   "version": "3.7.12"
  },
  "papermill": {
   "default_parameters": {},
   "duration": 51.767596,
   "end_time": "2022-10-20T18:57:01.789201",
   "environment_variables": {},
   "exception": null,
   "input_path": "__notebook__.ipynb",
   "output_path": "__notebook__.ipynb",
   "parameters": {},
   "start_time": "2022-10-20T18:56:10.021605",
   "version": "2.3.4"
  }
 },
 "nbformat": 4,
 "nbformat_minor": 5
}
