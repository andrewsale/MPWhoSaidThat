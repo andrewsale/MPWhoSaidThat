{
 "cells": [
  {
   "cell_type": "markdown",
   "id": "aebad142",
   "metadata": {
    "papermill": {
     "duration": 0.005825,
     "end_time": "2022-10-13T16:20:45.191788",
     "exception": false,
     "start_time": "2022-10-13T16:20:45.185963",
     "status": "completed"
    },
    "tags": []
   },
   "source": [
    "# Speeches by UK Members of Pariament\n",
    "## Data wrangling\n",
    "\n",
    "The data we have is scraped from <a href='https://www.ukpol.co.uk'>www.ukpol.co.uk</a> (ukpol) and <a href=\"http://www.britishpoliticalspeech.org/\">www.britishpoliticalspeech.org</a> (bps). The two datasets contain the speech, along with the speaker, the date and either a description (ukpol) or the party affiliation of the speaker (bps).\n",
    "\n",
    "The aim to is build a model that predicts the party affiliation of a speaker. We therefore want to build a dataset that contains speeches labelled by party. The speeches from bps already have party affiliations, however those from ukpol (which are far more numerous) do not. To help, a list of MPs since 1970 is obtained from <a href='https://www.wikidata.org/wiki/Wikidata:WikiProject_British_Politicians'>Wikidata</a>, which includes the party they represent."
   ]
  },
  {
   "cell_type": "code",
   "execution_count": null,
   "id": "420bfd1a",
   "metadata": {
    "_cell_guid": "b1076dfc-b9ad-4769-8c92-a6c4dae69d19",
    "_kg_hide-input": true,
    "_kg_hide-output": true,
    "_uuid": "8f2839f25d086af736a60e9eeb907d3b93b6e0e5",
    "execution": {
     "iopub.execute_input": "2022-10-13T16:20:45.203611Z",
     "iopub.status.busy": "2022-10-13T16:20:45.202915Z",
     "iopub.status.idle": "2022-10-13T16:20:58.647707Z",
     "shell.execute_reply": "2022-10-13T16:20:58.646476Z"
    },
    "papermill": {
     "duration": 13.45401,
     "end_time": "2022-10-13T16:20:58.650712",
     "exception": false,
     "start_time": "2022-10-13T16:20:45.196702",
     "status": "completed"
    },
    "tags": []
   },
   "outputs": [],
   "source": [
    "import numpy as np\n",
    "import pandas as pd\n",
    "import spacy\n",
    "import Levenshtein"
   ]
  },
  {
   "cell_type": "code",
   "execution_count": null,
   "id": "17fceb64",
   "metadata": {
    "execution": {
     "iopub.execute_input": "2022-10-13T16:20:58.665114Z",
     "iopub.status.busy": "2022-10-13T16:20:58.663662Z",
     "iopub.status.idle": "2022-10-13T16:21:04.987468Z",
     "shell.execute_reply": "2022-10-13T16:21:04.986202Z"
    },
    "papermill": {
     "duration": 6.332699,
     "end_time": "2022-10-13T16:21:04.990208",
     "exception": false,
     "start_time": "2022-10-13T16:20:58.657509",
     "status": "completed"
    },
    "tags": []
   },
   "outputs": [],
   "source": [
    "# Load the tables into dataframes\n",
    "\n",
    "ukpol_df = pd.read_csv('./Raw_speeches/speeches_ukpol.csv')\n",
    "ukpol_df = ukpol_df[['Speaker','Description','Speech']]\n",
    "\n",
    "bps_df = pd.read_csv('./Raw_speeches/speeches_bps.csv')\n",
    "bps_df = bps_df[['Speaker','Party','Speech']]\n",
    "\n",
    "MP_df = pd.read_csv('MPs_1970_onwards.csv')\n",
    "MP_df = MP_df[['itemLabel', 'partyLabel']]\n",
    "MP_df.columns = ['Name', 'Party']\n",
    "MP_df = MP_df.groupby(['Name','Party']).first().reset_index()\n",
    "MP_set = set(MP_df.Name)\n",
    "MP_dict = { mp : party for mp,party in zip(list(MP_df.Name), list(MP_df.Party)) }\n",
    "\n",
    "# Load \n",
    "nlp = spacy.load(\"en_core_web_lg\")"
   ]
  },
  {
   "cell_type": "markdown",
   "id": "00f2c5c8",
   "metadata": {
    "papermill": {
     "duration": 0.004371,
     "end_time": "2022-10-13T16:21:04.999339",
     "exception": false,
     "start_time": "2022-10-13T16:21:04.994968",
     "status": "completed"
    },
    "tags": []
   },
   "source": [
    "# BPS dataset: tidying the speaker column\n",
    "\n",
    "The party affiliations are already assigned in this set, so we will just do some tidying in the speaker column (though this is not necessary for our current objective, it might be helpful for other purposes)."
   ]
  },
  {
   "cell_type": "code",
   "execution_count": null,
   "id": "0d7675e3",
   "metadata": {
    "execution": {
     "iopub.execute_input": "2022-10-13T16:21:05.010363Z",
     "iopub.status.busy": "2022-10-13T16:21:05.009890Z",
     "iopub.status.idle": "2022-10-13T16:21:05.017540Z",
     "shell.execute_reply": "2022-10-13T16:21:05.016514Z"
    },
    "papermill": {
     "duration": 0.015855,
     "end_time": "2022-10-13T16:21:05.019848",
     "exception": false,
     "start_time": "2022-10-13T16:21:05.003993",
     "status": "completed"
    },
    "tags": []
   },
   "outputs": [],
   "source": [
    "# Remove the party in parenteses from some speakers\n",
    "bps_df['Speaker'] = bps_df['Speaker'].str.replace(r'\\s\\(.+\\)', '', regex=True)"
   ]
  },
  {
   "cell_type": "code",
   "execution_count": null,
   "id": "3542be06",
   "metadata": {
    "execution": {
     "iopub.execute_input": "2022-10-13T16:21:05.030951Z",
     "iopub.status.busy": "2022-10-13T16:21:05.030573Z",
     "iopub.status.idle": "2022-10-13T16:21:05.040206Z",
     "shell.execute_reply": "2022-10-13T16:21:05.038980Z"
    },
    "papermill": {
     "duration": 0.018047,
     "end_time": "2022-10-13T16:21:05.042576",
     "exception": false,
     "start_time": "2022-10-13T16:21:05.024529",
     "status": "completed"
    },
    "tags": []
   },
   "outputs": [],
   "source": [
    "# Change so names all of the form: firstname lastname\n",
    "def reverse_name(split_name):\n",
    "    if len(split_name) == 1:\n",
    "        return split_name[0]\n",
    "    else:\n",
    "        reversed_name = split_name[::-1]\n",
    "        return ' '.join(reversed_name)\n",
    "bps_df['Speaker'] = bps_df['Speaker'].str.split(', ').apply(reverse_name)\n",
    "# This introduced some extra white spaces\n",
    "bps_df['Speaker'] = bps_df['Speaker'].str.replace('  ',' ')"
   ]
  },
  {
   "cell_type": "markdown",
   "id": "53ecd6eb",
   "metadata": {
    "papermill": {
     "duration": 0.004326,
     "end_time": "2022-10-13T16:21:05.051494",
     "exception": false,
     "start_time": "2022-10-13T16:21:05.047168",
     "status": "completed"
    },
    "tags": []
   },
   "source": [
    "# UKPOL party identification\n",
    "\n",
    "## Finding MPs using Levenshtein distance.\n",
    "\n",
    "The Levenshtein distance measures the number of character changes that are needed to convert one string into another.\n",
    "For each person from Step 1 where we did not find a direct match, we now search for the MP with the smallest Levenshtein distance.\n",
    "We seek only those with very close matches (distance 2 or fewer). \n",
    "Then, after a manual inspection, we remove those which are not accurate matches (e.g. 'John Smith' matched to 'Joan Smith')."
   ]
  },
  {
   "cell_type": "code",
   "execution_count": null,
   "id": "f9143dcd",
   "metadata": {
    "execution": {
     "iopub.execute_input": "2022-10-13T16:21:05.063132Z",
     "iopub.status.busy": "2022-10-13T16:21:05.061847Z",
     "iopub.status.idle": "2022-10-13T16:21:09.633164Z",
     "shell.execute_reply": "2022-10-13T16:21:09.631872Z"
    },
    "papermill": {
     "duration": 4.579995,
     "end_time": "2022-10-13T16:21:09.636029",
     "exception": false,
     "start_time": "2022-10-13T16:21:05.056034",
     "status": "completed"
    },
    "tags": []
   },
   "outputs": [],
   "source": [
    "finding_MPs = {}\n",
    "for speaker in set(ukpol_df['Speaker']):\n",
    "    if isinstance(speaker, str):\n",
    "        finding_MPs[speaker] = {}\n",
    "        for mp in MP_dict.keys():\n",
    "            lev = Levenshtein.distance(speaker, mp)\n",
    "            finding_MPs[speaker][mp] = lev    \n",
    "closest_MP = {}\n",
    "for speaker in finding_MPs.keys():    \n",
    "    closest = min(finding_MPs[speaker], key = finding_MPs[speaker].get)\n",
    "    if finding_MPs[speaker][closest] < 3 and finding_MPs[speaker][closest] > 0:\n",
    "        closest_MP[speaker] = closest\n",
    "bad_matches = ['John Eden', 'John Evans','Michael Jay','Peter Wilson','John Inge','John Morris','Joan Walmsley','John Stokes','Roger Taylor',\n",
    "              'John McFall','Paul Eagland','Chris Whitty','David Moran','Ann Taylor','Julie Smith','John Ware','Jane Hutt','David Moyes',\n",
    "              'John Hynd','Justin Manners','Roy Hughes','Johann Lamont','John Apter','Carwyn Jones']\n",
    "\n",
    "for speaker in bad_matches:\n",
    "    if speaker in closest_MP.keys():\n",
    "        del closest_MP[speaker]\n",
    "        \n",
    "ukpol_df.Speaker = ukpol_df.Speaker.apply(lambda x : closest_MP[x] if x in closest_MP.keys() else x)"
   ]
  },
  {
   "cell_type": "markdown",
   "id": "d04e7f2b",
   "metadata": {
    "papermill": {
     "duration": 0.004322,
     "end_time": "2022-10-13T16:21:09.645056",
     "exception": false,
     "start_time": "2022-10-13T16:21:09.640734",
     "status": "completed"
    },
    "tags": []
   },
   "source": [
    "Some of those not yet matched to a party can manually be matched to a party. They may not be MPs, for example, Nicola Sturgeon is the leader of the SNP and First Minister of Scotland, but not an MP in Westminister. Others failed to match  because of variations of their names that have been used.\n",
    "We manually assign some of the speakers who have given multiple speeches.\n",
    "\n",
    "Some speakers were mislabelled as \"2017 Labour Party Conference\" or similar. We extract the party from this name and assign it to the Party column. We could infer the speakers from the descriptions, but this is more work than it is worth (given our current objective and the relatively small number of speechs involved)."
   ]
  },
  {
   "cell_type": "code",
   "execution_count": null,
   "id": "40f87ffd",
   "metadata": {
    "execution": {
     "iopub.execute_input": "2022-10-13T16:21:09.655811Z",
     "iopub.status.busy": "2022-10-13T16:21:09.655395Z",
     "iopub.status.idle": "2022-10-13T16:21:09.673619Z",
     "shell.execute_reply": "2022-10-13T16:21:09.672508Z"
    },
    "papermill": {
     "duration": 0.026751,
     "end_time": "2022-10-13T16:21:09.676216",
     "exception": false,
     "start_time": "2022-10-13T16:21:09.649465",
     "status": "completed"
    },
    "tags": []
   },
   "outputs": [],
   "source": [
    "manual_assignment = {\n",
    "'Nicola Sturgeon' : 'Scottish National Party',\n",
    "'John Hutton' : 'Labour Party',\n",
    "'Steve Barclay' : 'Conservative Party',\n",
    "'Therese Coffey': 'Conservative Party',\n",
    "'Ken Clarke' : 'Conservative Party',\n",
    "'Andrew Adonis' : 'Labour Party',\n",
    "'Adonis' : 'Labour Party',\n",
    "'Lord Falconer' : 'Labour Party',\n",
    "'Barbara Castle' : 'Labour Party',\n",
    "'Elizabeth Truss' : 'Conservative Party',\n",
    "'Mr Major' : 'Conservative Party',\n",
    "'Nusrat Ghani': 'Conservative Party',\n",
    "'Matthew Hancock' : 'Conservative Party',\n",
    "'Anthony Eden' : 'Conservative Party',\n",
    "'Christian Matheson': 'Labour Party',\n",
    "'Jonathan Hill' : 'Conservative Party',\n",
    "'Warsi' : 'Conservative Party',\n",
    "'John Reid' : 'Labour Party',\n",
    "'Nigel Farage' : 'UK Independence Party',\n",
    "'Caoimhe Archibald' : 'Sinn Féin',\n",
    "'Carwyn Jones' : 'Labour Party',\n",
    "'Clement Attlee' : 'Labour Party',\n",
    "'Baroness Anelay' : 'Conservative Party',\n",
    "'Ruth Davidson': 'Conservative Party',\n",
    "'Clinton Davis' : 'Labour Party',\n",
    "'Nicholas Ridley' : 'Conservative Party',\n",
    "'Mark Drakeford' : 'Labour Party',\n",
    "'Baroness Warsi' : 'Conservative Party',\n",
    "'Marsha De Cordova' : 'Labour Party',\n",
    "'Lord Freud' : 'Conservative Party',\n",
    "'David Lloyd George' : 'Liberal Party',\n",
    "'Chris Chope': 'Conservative Party',\n",
    "'Colm Gildernew' : 'Sinn Fein',\n",
    "'Baroness Verma' : 'Conservative Party',\n",
    "'Anthony Meyer' : 'Conservative Party', # though he did join the Lib Dems later in his career\n",
    "'Sir John Major' : 'Conservative Party',\n",
    "'Jane Hutt' : 'Labour Party',\n",
    "'Len McCluskey' : 'Labour Party',\n",
    "'Tariq Ahmad' : 'Conservative Party',\n",
    "'Lord Adonis' : 'Labour Party',\n",
    "'Paul Channon' : 'Conservative Party',\n",
    "'Sayeeda Warsi' :'Conservative Party',\n",
    "'Baroness Kramer' : 'Liberal Democrats',\n",
    "'Jim Wallace': 'Liberal Democrats'\n",
    "    }\n",
    "MP_dict.update(manual_assignment)\n",
    "\n",
    "labour_party_conferences = { f'{x} Labour Party Conference' : 'Labour Party' for x in range(1970,2023)}\n",
    "conservative_party_conferences = { f'{x} Conservative Party Conference' : 'Conservative Party' for x in range(1970,2023)}\n",
    "libdem_party_conferences = { f'{x} Liberal Democrat Party Conference' : 'Liberal Democrats' for x in range(1970,2023)}\n",
    "\n",
    "MP_dict.update(labour_party_conferences)\n",
    "MP_dict.update(conservative_party_conferences)\n",
    "MP_dict.update(libdem_party_conferences)\n",
    "\n",
    "ukpol_df['Party'] = ukpol_df['Speaker'].apply(lambda x : MP_dict[x] if x in MP_dict.keys() else np.NaN)"
   ]
  },
  {
   "cell_type": "markdown",
   "id": "ed35277e",
   "metadata": {
    "papermill": {
     "duration": 0.004262,
     "end_time": "2022-10-13T16:21:09.685331",
     "exception": false,
     "start_time": "2022-10-13T16:21:09.681069",
     "status": "completed"
    },
    "tags": []
   },
   "source": [
    "# Merging the datasets\n",
    "\n",
    "We now merge the datasets on the Speaker, Speech and Party columns."
   ]
  },
  {
   "cell_type": "code",
   "execution_count": null,
   "id": "23b022bf",
   "metadata": {
    "execution": {
     "iopub.execute_input": "2022-10-13T16:21:09.697049Z",
     "iopub.status.busy": "2022-10-13T16:21:09.695843Z",
     "iopub.status.idle": "2022-10-13T16:21:09.703086Z",
     "shell.execute_reply": "2022-10-13T16:21:09.702154Z"
    },
    "papermill": {
     "duration": 0.015533,
     "end_time": "2022-10-13T16:21:09.705504",
     "exception": false,
     "start_time": "2022-10-13T16:21:09.689971",
     "status": "completed"
    },
    "tags": []
   },
   "outputs": [],
   "source": [
    "# Ensure the naming of parties is consistent over the two sets\n",
    "bps_to_ukpol_party_map = {\n",
    "    'Labour': 'Labour Party',\n",
    "    'Conservative' : 'Conservative Party',\n",
    "    'Liberal Democrat': 'Liberal Democrats',\n",
    "    'Liberal':'Liberal',\n",
    "    'SDP-Liberal Alliance': 'Liberal Democrats' # strictly speaking this is not true, but the two parties in the alliance later merged and formed what was later to be named the Liberal Democrats\n",
    "}\n",
    "bps_df['Party'] = bps_df['Party'].map(lambda x : bps_to_ukpol_party_map[x])"
   ]
  },
  {
   "cell_type": "code",
   "execution_count": null,
   "id": "f4e5539b",
   "metadata": {
    "execution": {
     "iopub.execute_input": "2022-10-13T16:21:09.717051Z",
     "iopub.status.busy": "2022-10-13T16:21:09.716236Z",
     "iopub.status.idle": "2022-10-13T16:21:09.727914Z",
     "shell.execute_reply": "2022-10-13T16:21:09.727080Z"
    },
    "papermill": {
     "duration": 0.020101,
     "end_time": "2022-10-13T16:21:09.730395",
     "exception": false,
     "start_time": "2022-10-13T16:21:09.710294",
     "status": "completed"
    },
    "tags": []
   },
   "outputs": [],
   "source": [
    "speeches_df = pd.concat([ukpol_df[['Speaker', 'Party', 'Speech']], bps_df[['Speaker','Party','Speech']]], ignore_index=True)"
   ]
  },
  {
   "cell_type": "code",
   "execution_count": null,
   "id": "dd44f86c",
   "metadata": {
    "execution": {
     "iopub.execute_input": "2022-10-13T16:21:09.742181Z",
     "iopub.status.busy": "2022-10-13T16:21:09.741377Z",
     "iopub.status.idle": "2022-10-13T16:21:09.752084Z",
     "shell.execute_reply": "2022-10-13T16:21:09.750999Z"
    },
    "papermill": {
     "duration": 0.019627,
     "end_time": "2022-10-13T16:21:09.754820",
     "exception": false,
     "start_time": "2022-10-13T16:21:09.735193",
     "status": "completed"
    },
    "tags": []
   },
   "outputs": [],
   "source": [
    "# Make consistent some of the party names\n",
    "name_fixes = {\n",
    "    'Liberal' : 'Liberal Party',\n",
    "    'Sinn Féin' : 'Sinn Fein'\n",
    "}\n",
    "speeches_df['Party'] = speeches_df['Party'].apply(lambda x : name_fixes[x] if x in name_fixes.keys() else x)"
   ]
  },
  {
   "cell_type": "markdown",
   "id": "d47bd4eb",
   "metadata": {
    "papermill": {
     "duration": 0.004296,
     "end_time": "2022-10-13T16:21:09.763718",
     "exception": false,
     "start_time": "2022-10-13T16:21:09.759422",
     "status": "completed"
    },
    "tags": []
   },
   "source": [
    "# Parties represented\n",
    "\n",
    "The list below shows how many speeches are in the database from speakers of each party."
   ]
  },
  {
   "cell_type": "code",
   "execution_count": null,
   "id": "0900c159",
   "metadata": {
    "execution": {
     "iopub.execute_input": "2022-10-13T16:21:09.774388Z",
     "iopub.status.busy": "2022-10-13T16:21:09.773919Z",
     "iopub.status.idle": "2022-10-13T16:21:09.793933Z",
     "shell.execute_reply": "2022-10-13T16:21:09.792503Z"
    },
    "papermill": {
     "duration": 0.028503,
     "end_time": "2022-10-13T16:21:09.796771",
     "exception": false,
     "start_time": "2022-10-13T16:21:09.768268",
     "status": "completed"
    },
    "tags": []
   },
   "outputs": [],
   "source": [
    "speeches_df.dropna(subset=['Party'], inplace=True) # drop rows with no Party\n",
    "speeches_df.Party.value_counts()"
   ]
  },
  {
   "cell_type": "code",
   "execution_count": null,
   "id": "002dd36f",
   "metadata": {
    "execution": {
     "iopub.execute_input": "2022-10-13T16:21:09.809558Z",
     "iopub.status.busy": "2022-10-13T16:21:09.808779Z",
     "iopub.status.idle": "2022-10-13T16:21:11.856582Z",
     "shell.execute_reply": "2022-10-13T16:21:11.855294Z"
    },
    "papermill": {
     "duration": 2.056863,
     "end_time": "2022-10-13T16:21:11.859594",
     "exception": false,
     "start_time": "2022-10-13T16:21:09.802731",
     "status": "completed"
    },
    "tags": []
   },
   "outputs": [],
   "source": [
    "speeches_df.to_csv('Processed_speeches/speeches.csv', index=False)"
   ]
  }
 ],
 "metadata": {
  "kernelspec": {
   "display_name": "Python 3.9.13 ('.venv': venv)",
   "language": "python",
   "name": "python3"
  },
  "language_info": {
   "codemirror_mode": {
    "name": "ipython",
    "version": 3
   },
   "file_extension": ".py",
   "mimetype": "text/x-python",
   "name": "python",
   "nbconvert_exporter": "python",
   "pygments_lexer": "ipython3",
   "version": "3.9.13"
  },
  "papermill": {
   "default_parameters": {},
   "duration": 39.21606,
   "end_time": "2022-10-13T16:21:14.598728",
   "environment_variables": {},
   "exception": null,
   "input_path": "__notebook__.ipynb",
   "output_path": "__notebook__.ipynb",
   "parameters": {},
   "start_time": "2022-10-13T16:20:35.382668",
   "version": "2.3.4"
  },
  "vscode": {
   "interpreter": {
    "hash": "596478c17f57cc447248f5b701a09fe45984fb1f5846d2cd98bab2f18ccdeeec"
   }
  }
 },
 "nbformat": 4,
 "nbformat_minor": 5
}
